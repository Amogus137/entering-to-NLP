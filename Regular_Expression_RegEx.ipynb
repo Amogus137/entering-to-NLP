{
  "nbformat": 4,
  "nbformat_minor": 0,
  "metadata": {
    "colab": {
      "name": "Regular Expression, RegEx",
      "private_outputs": true,
      "provenance": [],
      "authorship_tag": "ABX9TyPXib3Dsh8/9vn2Xwp1v9wE",
      "include_colab_link": true
    },
    "kernelspec": {
      "name": "python3",
      "display_name": "Python 3"
    },
    "language_info": {
      "name": "python"
    }
  },
  "cells": [
    {
      "cell_type": "markdown",
      "metadata": {
        "id": "view-in-github",
        "colab_type": "text"
      },
      "source": [
        "<a href=\"https://colab.research.google.com/github/Herzeg137/entering-to-NLP/blob/main/Regular_Expression_RegEx.ipynb\" target=\"_parent\"><img src=\"https://colab.research.google.com/assets/colab-badge.svg\" alt=\"Open In Colab\"/></a>"
      ]
    },
    {
      "cell_type": "code",
      "execution_count": null,
      "metadata": {
        "id": "VCZZojp6Q3ee"
      },
      "outputs": [],
      "source": [
        "#sample example \n",
        "import re\n",
        "test_email_1 = \"Jane.doe1971@gmail.com\"\n",
        "test_email_2 = \"JD@msn.org.edu\"\n",
        "test_email_3 = \"J.A.N.E@web123.AI\"\n",
        "test_emails = [test_email_1, test_email_2, test_email_3]\n",
        "\n",
        "def extract_info(email_string):\n",
        "    # Search for username\n",
        "    # Methodology\n",
        "    # All alphabets and numbers before @\n",
        "    # () anything between parenthesis is matched and returned\n",
        "    # [] contains the set of characters \n",
        "    #  that may occur in the matched string\n",
        "    u = re.search('([A-Za-z0-9\\.]*)@', email_string)\n",
        "    username = u.group(1)\n",
        "\n",
        "    # Search for domain name\n",
        "    # All alphabets and numbers between @ and dot\n",
        "    # Escape the dot using backslash\n",
        "    d = re.search('@([A-Za-z0-9]*)\\.', email_string)\n",
        "    domain = d.group(1)\n",
        "\n",
        "    # Search for TLD\n",
        "    # Anything after the first dot \n",
        "    #  that occurs after the @ sign\n",
        "    t = re.search('@[A-Za-z0-9]*\\.([A-Za-z\\.]*)', email_string)\n",
        "    TLD = t.group(1)\n",
        "\n",
        "    print(\"\\n*****************************\\nEMAIL: \", email_string)\n",
        "    print(\"Username: \", username)\n",
        "    print(\"Domain: \", domain)\n",
        "    print(\"TLD: \", TLD, \"\\n\")\n",
        "\n",
        "for email in test_emails:\n",
        "    extract_info(email)"
      ]
    }
  ]
}