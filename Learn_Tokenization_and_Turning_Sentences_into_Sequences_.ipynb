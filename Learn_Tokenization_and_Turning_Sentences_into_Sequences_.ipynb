{
  "nbformat": 4,
  "nbformat_minor": 0,
  "metadata": {
    "colab": {
      "name": "NLP1 _entering to NLP_Learn_Tokenization_Turning_Sentences_into_Sequences .ipynb",
      "private_outputs": true,
      "provenance": [],
      "collapsed_sections": [],
      "authorship_tag": "ABX9TyMzeUn1tiFXdeD0x44g7/d5",
      "include_colab_link": true
    },
    "kernelspec": {
      "name": "python3",
      "display_name": "Python 3"
    },
    "language_info": {
      "name": "python"
    }
  },
  "cells": [
    {
      "cell_type": "markdown",
      "metadata": {
        "id": "view-in-github",
        "colab_type": "text"
      },
      "source": [
        "<a href=\"https://colab.research.google.com/github/Herzeg137/entering-to-NLP/blob/main/Learn_Tokenization_and_Turning_Sentences_into_Sequences_.ipynb\" target=\"_parent\"><img src=\"https://colab.research.google.com/assets/colab-badge.svg\" alt=\"Open In Colab\"/></a>"
      ]
    },
    {
      "cell_type": "code",
      "execution_count": null,
      "metadata": {
        "id": "2IVNL4RlvEaJ"
      },
      "outputs": [],
      "source": [
        "#Kirish \n",
        "#Kutubxonadagi ma'lum so'zni index bilan chiqarish\n",
        "import tensorflow as tf\n",
        "from tensorflow import keras\n",
        "from tensorflow.keras.preprocessing.text import Tokenizer\n",
        "sentences = [\n",
        " 'Today is a sunny day',\n",
        " 'Today is a rainy day'\n",
        "]\n",
        "tokenizer = Tokenizer(num_words = 100)\n",
        "tokenizer.fit_on_texts(sentences)\n",
        "word_index = tokenizer.word_index\n",
        "print(word_index)\n"
      ]
    },
    {
      "cell_type": "code",
      "source": [
        "#kirish 2\n",
        "import tensorflow as tf\n",
        "from tensorflow import keras\n",
        "from tensorflow.keras.preprocessing.text import Tokenizer\n",
        "sentences = [\n",
        " 'Today is a sunny day',\n",
        " 'Today is a rainy day',\n",
        " 'Is it sunny today?'\n",
        "\n",
        "]\n",
        "tokenizer = Tokenizer(num_words = 100)\n",
        "tokenizer.fit_on_texts(sentences)\n",
        "word_index = tokenizer.word_index\n",
        "print(word_index)\n"
      ],
      "metadata": {
        "id": "Aso3Sx9fy81z"
      },
      "execution_count": null,
      "outputs": []
    },
    {
      "cell_type": "code",
      "source": [
        "#kirish 3\n",
        "import tensorflow as tf\n",
        "from tensorflow import keras\n",
        "from tensorflow.keras.preprocessing.text import Tokenizer\n",
        "sentences = [\n",
        " \n",
        " 'Is it sunny today?'\n",
        "\n",
        "]\n",
        "tokenizer = Tokenizer(num_words = 100)\n",
        "tokenizer.fit_on_texts(sentences)  \n",
        "#Bu yerdagi fit_on_texts funksiyasi berilgan gapdagi so'zlarni ketma-ketlik bo'yicha raqamlarga soladi\n",
        "#Bu degani bu yerdagi 'is' - 1 raqami, 'it' - 2 raqami va shunday davom etadi\n",
        "\n",
        "word_index = tokenizer.word_index\n",
        "#Bu funksiyaning vazifasi so'zlarni raqamlashtirish va qaysi so'z qaysi raqam ekanligini ko'rsatish\n",
        "print(word_index)\n"
      ],
      "metadata": {
        "id": "DVd_WrUJzO1l"
      },
      "execution_count": null,
      "outputs": []
    },
    {
      "cell_type": "code",
      "source": [
        "#ana endi biz so'zlar bilan emas faqatgina raqamlar ketma-ketligini ko'ramiz\n",
        "import tensorflow as tf\n",
        "from tensorflow import keras\n",
        "from tensorflow.keras.preprocessing.text import Tokenizer\n",
        "\n",
        "sentences = [\n",
        " 'Today is a sunny day',\n",
        " 'Today is a rainy day',\n",
        " 'Is it sunny today?'\n",
        "]\n",
        "tokenizer = Tokenizer(num_words = 100)\n",
        "tokenizer.fit_on_texts(sentences) \n",
        "#fit_on_texts funksiyasi raqamlashtiradi\n",
        "sequences = tokenizer.texts_to_sequences(sentences) #aynan manashu joy matritsaga o'tqizishni hal qiladi, bu yer bolmasa tepadagi misolning natijasi boladi\n",
        "print(sequences)\n",
        "\n",
        "#Result dagi sonlar esa matritsa ko'rinishida 1-blokda 1-gap joylashgan"
      ],
      "metadata": {
        "id": "DzMFoODwznzm"
      },
      "execution_count": null,
      "outputs": []
    },
    {
      "cell_type": "code",
      "source": [
        "#Biz tepada ko'rgan va ishlatgan funksiyalarning kutubxonasida so'zlar cheklangan ba'zi so'zlar mavjud emas\n",
        "#aynan shuning uchun biz OOV(ougth-of-vocabulary) dan foydalanamiz\n",
        "import tensorflow as tf\n",
        "from tensorflow import keras\n",
        "from tensorflow.keras.preprocessing.text import Tokenizer\n",
        "\n",
        "test_data = [\n",
        "        \"Will be rainy day?\"  #noma'lum so'z bu Will\n",
        "    \n",
        "]\n",
        "\n",
        "sentences  =[\n",
        "    \" Today is rainy day\"\n",
        "]\n",
        "tokenizer = Tokenizer(num_words = 100, oov_token=\"<OOV>\")\n",
        "#oov_token - agarda noma'lum so'z ko'rinsa demak uni bizga OOV deb tanishtiradi\n",
        "#ya'ni Will so'zi Result da OOV bo'ladi\n",
        "tokenizer.fit_on_texts(sentences)\n",
        "word_index = tokenizer.word_index\n",
        "\n",
        "sequences = tokenizer.texts_to_sequences(sentences) #ma'lum so'zli gapni matritsaga qo'yish uchun\n",
        "test_sequences = tokenizer.texts_to_sequences(test_data) #noma'lum so'zli gapni matritsaga qo'yish uchun\n",
        "print(word_index) #qaysi so'z qaysi son ekanligini ko'rsatish uchun\n",
        "print(sequences) #ma'lum so'zli gapni matritsaga qo'yish uchun\n",
        "print(test_sequences) #noma'lum so'zli gapni matritsaga qo'yish uchun"
      ],
      "metadata": {
        "id": "GnaFma1000my"
      },
      "execution_count": null,
      "outputs": []
    },
    {
      "cell_type": "code",
      "source": [
        "#OOV with word index\n",
        "\n",
        "import tensorflow as tf\n",
        "from tensorflow import keras\n",
        "from tensorflow.keras.preprocessing.text import Tokenizer\n",
        "\n",
        "test_data = [\n",
        "        \"Will be rainy day?\"  #noma'lum so'z bu Will\n",
        "        \" Today is rainy day\"\n",
        "]\n",
        "\n",
        "tokenizer = Tokenizer(num_words = 100, oov_token = \"<OOV>\") \n",
        "tokenizer.fit_on_texts(test_data) #So'zlarni raqamga o'girish\n",
        "sequences = tokenizer.texts_to_sequences(test_data) #raqamlarni matritsaga qo'yish\n",
        "print(sequences) "
      ],
      "metadata": {
        "id": "qdQFQEaBAl3F"
      },
      "execution_count": null,
      "outputs": []
    },
    {
      "cell_type": "code",
      "source": [
        "#NN ni Training qilishdan avval hamma matritsalar bir xil shape da ya'ni bir xil shaklda bo'lishi kerak.\n",
        "#buni chunish esa Understanding padding deb ataladi\n",
        "\n",
        "import tensorflow as tf\n",
        "from tensorflow import keras\n",
        "from tensorflow.keras.preprocessing.text import Tokenizer\n",
        "\n",
        "sentences = [\n",
        "    'Today is a sunny day',\n",
        "    'Today is a rainy day',\n",
        "    'Is it sunny today?',\n",
        "    'I really enjoyed walking in the snow today'\n",
        "\n",
        "]\n",
        "\n",
        "tokenizer = Tokenizer(num_words = 100, oov_token=\"<OOV>\")\n",
        "\n",
        "tokenizer.fit_on_texts(sentences)\n",
        "sequences = tokenizer.texts_to_sequences(sentences) \n",
        "print(sequences) \n",
        "\n",
        "#Note: Result da matritsalar bitta chiziqda joylashgan bo'ladi, buning ko'rinishini o'zgartirsak bo'ladi, hammasi pastdagi misolda, Iltimos pastdagi kamentariyalarni diqqat bilan o'qing\n",
        "\n"
      ],
      "metadata": {
        "id": "6JYs1gqG00sU"
      },
      "execution_count": null,
      "outputs": []
    },
    {
      "cell_type": "code",
      "source": [
        "#Matritsani Training uchun yaroqli holga keltirish\n",
        "import tensorflow as tf\n",
        "from tensorflow import keras\n",
        "from tensorflow.keras.preprocessing.text import Tokenizer\n",
        "from tensorflow.keras.preprocessing.sequence import pad_sequences #<<<Step1\n",
        "\n",
        "sentences = [\n",
        "    'Today is a sunny day',\n",
        "    'Today is a rainy day',\n",
        "    'Is it sunny today?',\n",
        "    'I really enjoyed walking in the snow today'\n",
        "\n",
        "]\n",
        "\n",
        "tokenizer = Tokenizer(num_words = 100, oov_token=\"<OOV>\")\n",
        "\n",
        "tokenizer.fit_on_texts(sentences)\n",
        "sequences = tokenizer.texts_to_sequences(sentences) \n",
        "\n",
        "padded = pad_sequences(sequences) #<<<Step2\n",
        "\n",
        "print(padded) #<<<Step3\n",
        "\n",
        "#Result  0 bilan boshlanadigan javobni ko'rsatdi bu so'zlarga ishora emas bu faqat training uchun bir xil o'lchamga kiritilgan matritsalar holos\n",
        "#0 soni boshiga qo'yilishining sababi bu Gaplarning o'lachami har xil ekanligida aynan boshiga qo'yilishi esa Oldindan to'ldirish deb ataladi\n",
        "#0 lar qisqa gaplarni uzun gaplarga yetirshtirish uchun ya'ni bo'sh joylarni to'ldirish uchun ishlatiladi\n",
        "\n",
        "#va biz 0 larni boshiga emas oxiriga ham qo'yishimiz mumkin keyingi misolda ko'ramiz\n",
        "\n",
        "\n",
        "#Biz gaplarni Training uchun tayyorladik \n",
        "#Bu bilan biz to'xtamaymiz\n",
        "#Keyingi misollarda biz manashu API(padding) ni o'rganib chiqamiz\n",
        "#va bu bilan ko'p narsalar qilsak bo'ladi\n",
        "#Ma'lumotlarni yaxshilashimiz mumkin"
      ],
      "metadata": {
        "id": "IEiDwbZg00vN"
      },
      "execution_count": null,
      "outputs": []
    },
    {
      "cell_type": "code",
      "source": [
        "#Oxiridan to'ldirish usuli, Iltimos tepadagi misolni diqqat bilan ko'zdan kechiring\n",
        "import tensorflow as tf\n",
        "from tensorflow import keras\n",
        "from tensorflow.keras.preprocessing.text import Tokenizer\n",
        "from tensorflow.keras.preprocessing.sequence import pad_sequences #<<<Step1\n",
        "\n",
        "sentences = [\n",
        "    'Today is a sunny day',\n",
        "    'Today is a rainy day',\n",
        "    'Is it sunny today?',\n",
        "    'I really enjoyed walking in the snow today'\n",
        "\n",
        "]\n",
        "\n",
        "tokenizer = Tokenizer(num_words = 100, oov_token=\"<OOV>\")\n",
        "\n",
        "tokenizer.fit_on_texts(sentences)\n",
        "sequences = tokenizer.texts_to_sequences(sentences) \n",
        "\n",
        "padded = pad_sequences(sequences, padding = 'post') #<<<Step2\n",
        "\n",
        "print(padded) #<<<Step3"
      ],
      "metadata": {
        "id": "ZA-4qOdrLcKN"
      },
      "execution_count": null,
      "outputs": []
    },
    {
      "cell_type": "code",
      "source": [
        "#Bu yerda maxlen parametri foydalanilgan\n",
        "#bu parametr yordamida biz eng uzun gapni qisqartirishimiz mumkin\n",
        "#Qisqartirish uchun esa kerakli qiymatni ya'ni nechta so'z qolishi kerakligini yozishimiz kerak\n",
        "#va bundan so'ng eng katta gapdagi oshiqcha so'zlar boshidan tanlanadi va ular olib tashlanadi\n",
        "#bu parametrdan foydalanishdan avvala qisqa gaplarga e'tirbor berish kerak chunki ma'lumot yo'qolib ketishi mumkin\n",
        "import tensorflow as tf\n",
        "from tensorflow import keras\n",
        "from tensorflow.keras.preprocessing.text import Tokenizer\n",
        "from tensorflow.keras.preprocessing.sequence import pad_sequences #<<<Step1\n",
        "\n",
        "sentences = [\n",
        "    'Today is a sunny day',\n",
        "    'Today is a rainy day',\n",
        "    'Is it sunny today?',\n",
        "    'I really enjoyed walking in the snow today'\n",
        "\n",
        "]\n",
        "\n",
        "tokenizer = Tokenizer(num_words = 100, oov_token=\"<OOV>\")\n",
        "\n",
        "tokenizer.fit_on_texts(sentences)\n",
        "word_index = tokenizer.word_index\n",
        "sequences = tokenizer.texts_to_sequences(sentences) \n",
        "\n",
        "padded = pad_sequences(sequences, padding = 'post', maxlen = 6 ) #<<<Step2\n",
        "\n",
        "print(padded) \n",
        "print(word_index)\n",
        "#NOTE: Pasdagi misolda buni boshqa shaklini ko'rishimiz mumkin"
      ],
      "metadata": {
        "id": "7xVuyr3KLcNm"
      },
      "execution_count": null,
      "outputs": []
    },
    {
      "cell_type": "code",
      "source": [
        "#Tepadagi misolda biz maxlen parametri yordamida boshidagilarni qisqartirishni ko'rdik\n",
        "#ana endi bu yerda biz boshidan emas oxiridan qisqartirishni ko'rib chiqamiz\n",
        "import tensorflow as tf\n",
        "from tensorflow import keras\n",
        "from tensorflow.keras.preprocessing.text import Tokenizer\n",
        "from tensorflow.keras.preprocessing.sequence import pad_sequences #<<<Step1\n",
        "\n",
        "sentences = [\n",
        "    'Today is a sunny day',\n",
        "    'Today is a rainy day',\n",
        "    'Is it sunny today?',\n",
        "    'I really enjoyed walking in the snow today'\n",
        "\n",
        "]\n",
        "\n",
        "tokenizer = Tokenizer(num_words = 100, oov_token=\"<OOV>\")\n",
        "\n",
        "tokenizer.fit_on_texts(sentences)\n",
        "word_index = tokenizer.word_index\n",
        "sequences = tokenizer.texts_to_sequences(sentences) \n",
        "\n",
        "padded = pad_sequences(sequences, padding = 'post', maxlen = 6,  truncating='post' ) #<<<Step2\n",
        "\n",
        "print(padded) \n",
        "print(word_index)"
      ],
      "metadata": {
        "id": "IU_DyblkLcT1"
      },
      "execution_count": null,
      "outputs": []
    }
  ]
}