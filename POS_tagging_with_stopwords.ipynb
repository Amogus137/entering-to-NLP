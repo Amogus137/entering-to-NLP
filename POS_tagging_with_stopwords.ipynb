{
  "nbformat": 4,
  "nbformat_minor": 0,
  "metadata": {
    "colab": {
      "name": "POS_tagging_with_stopwords.ipynb",
      "private_outputs": true,
      "provenance": [],
      "authorship_tag": "ABX9TyNQZMI2OVBxQ9JohJibY5qB",
      "include_colab_link": true
    },
    "kernelspec": {
      "name": "python3",
      "display_name": "Python 3"
    },
    "language_info": {
      "name": "python"
    }
  },
  "cells": [
    {
      "cell_type": "markdown",
      "metadata": {
        "id": "view-in-github",
        "colab_type": "text"
      },
      "source": [
        "<a href=\"https://colab.research.google.com/github/Herzeg137/entering-to-NLP/blob/main/POS_tagging_with_stopwords.ipynb\" target=\"_parent\"><img src=\"https://colab.research.google.com/assets/colab-badge.svg\" alt=\"Open In Colab\"/></a>"
      ]
    },
    {
      "cell_type": "markdown",
      "source": [
        "CC coordinating conjunction \n",
        "\n",
        "\n",
        "CD cardinal digit \n",
        "\n",
        "\n",
        "DT determiner \n",
        "\n",
        "EX existential there (like: “there is” … think of it like “there exists”) \n",
        "\n",
        "FW foreign word \n",
        "\n",
        "IN preposition/subordinating conjunction \n",
        "\n",
        "JJ adjective – ‘big’ \n",
        "\n",
        "JJR adjective, comparative – ‘bigger’ \n",
        "\n",
        "JJS adjective, superlative – ‘biggest’ \n",
        "\n",
        "LS list marker 1) \n",
        "\n",
        "MD modal – could, will \n",
        "\n",
        "NN noun, singular ‘- desk’ \n",
        "\n",
        "NNS noun plural – ‘desks’ \n",
        "\n",
        "NNP proper noun, singular – ‘Harrison’ \n",
        "\n",
        "NNPS proper noun, plural – ‘Americans’ \n",
        "\n",
        "PDT predeterminer – ‘all the kids’ \n",
        "\n",
        "POS possessive ending parent’s \n",
        "\n",
        "PRP personal pronoun –  I, he, she \n",
        "\n",
        "PRP$ possessive pronoun – my, his, hers \n",
        "\n",
        "\n",
        "RB adverb – very, silently, \n",
        "\n",
        "RBR adverb, comparative – better \n",
        "\n",
        "RBS adverb, superlative – best \n",
        "\n",
        "RP particle – give up \n",
        "\n",
        "\n",
        "TO – to go ‘to’ the store. \n",
        "\n",
        "UH interjection – errrrrrrrm \n",
        "\n",
        "VB verb, base form – take \n",
        "\n",
        "VBD verb, past tense – took \n",
        "\n",
        "VBG verb, gerund/present participle – ta\n",
        "king \n",
        "VBN verb, past participle – taken \n",
        "\n",
        "VBP verb, sing. present, non-3d – take \n",
        "\n",
        "VBZ verb, 3rd person sing. present – takes \n",
        "\n",
        "WDT wh-determiner – which \n",
        "\n",
        "WP wh-pronoun – who, what \n",
        "\n",
        "WP$ possessive wh-pronoun, eg- whose \n",
        "\n",
        "WRB wh-adverb, eg- where, when *italicized text*\n",
        "\n",
        "\n"
      ],
      "metadata": {
        "id": "YcEqaG7o3IyI"
      }
    },
    {
      "cell_type": "code",
      "source": [
        "import nltk\n",
        "from nltk.corpus import stopwords\n",
        "from nltk.tokenize import word_tokenize, sent_tokenize\n",
        "nltk.download('stopwords')\n",
        "nltk.download('punkt')\n",
        "nltk.download('averaged_perceptron_tagger')\n",
        "stop_words = set(stopwords.words('english'))\n",
        " \n",
        "txt = \"Sukanya, Rajib and Naba are my good friends. \" \\\n",
        "    \"Sukanya is getting married next year. \" \\\n",
        "    \"Marriage is a big step in one’s life.\" \\\n",
        "    \"It is both exciting and frightening. \" \\\n",
        "    \"But friendship is a sacred bond between people.\" \\\n",
        "    \"It is a special kind of love between us. \" \\\n",
        "    \"Many of you must have tried searching for a friend \"\\\n",
        "    \"but never found the right one.\"\n",
        " \n",
        "# sent_tokenize is one of instances of\n",
        "# PunktSentenceTokenizer from the nltk.tokenize.punkt module\n",
        " \n",
        "tokenized = sent_tokenize(txt)\n",
        "for i in tokenized:\n",
        "     \n",
        "    # Word tokenizers is used to find the words\n",
        "    # and punctuation in a string\n",
        "    wordsList = nltk.word_tokenize(i)\n",
        " \n",
        "    # removing stop words from wordList\n",
        "    wordsList = [w for w in wordsList if not w in stop_words]\n",
        " \n",
        "    #  Using a Tagger. Which is part-of-speech\n",
        "    # tagger or POS-tagger.\n",
        "    tagged = nltk.pos_tag(wordsList)\n",
        " \n",
        "    print(tagged)"
      ],
      "metadata": {
        "id": "ptGBqtXp3hbz"
      },
      "execution_count": null,
      "outputs": []
    },
    {
      "cell_type": "code",
      "source": [
        ""
      ],
      "metadata": {
        "id": "S7OE_wkg3tRX"
      },
      "execution_count": null,
      "outputs": []
    }
  ]
}