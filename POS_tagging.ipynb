{
  "nbformat": 4,
  "nbformat_minor": 0,
  "metadata": {
    "colab": {
      "name": "POS_tagging.ipynb",
      "private_outputs": true,
      "provenance": [],
      "authorship_tag": "ABX9TyMkAqYc0+BfU2kdAV39rHbZ",
      "include_colab_link": true
    },
    "kernelspec": {
      "name": "python3",
      "display_name": "Python 3"
    },
    "language_info": {
      "name": "python"
    }
  },
  "cells": [
    {
      "cell_type": "markdown",
      "metadata": {
        "id": "view-in-github",
        "colab_type": "text"
      },
      "source": [
        "<a href=\"https://colab.research.google.com/github/Herzeg137/entering-to-NLP/blob/main/POS_tagging.ipynb\" target=\"_parent\"><img src=\"https://colab.research.google.com/assets/colab-badge.svg\" alt=\"Open In Colab\"/></a>"
      ]
    },
    {
      "cell_type": "code",
      "source": [
        "#1\n",
        "# Loading Libraries\n",
        "from nltk.tag import DefaultTagger\n",
        " \n",
        "# Defining Tag\n",
        "tagging = DefaultTagger('NN')\n",
        " \n",
        "# Tagging\n",
        "tagging.tag(['Hello', 'Geeks'])"
      ],
      "metadata": {
        "id": "kocXyKG704zT"
      },
      "execution_count": null,
      "outputs": []
    },
    {
      "cell_type": "code",
      "source": [
        "#2\n",
        "# Loading Libraries\n",
        "from nltk.tag import DefaultTagger\n",
        " \n",
        "# Defining Tag\n",
        "tagging = DefaultTagger('NN')\n",
        " \n",
        "tagging.tag_sents([['welcome', 'to', '.'], ['Geeks', 'for', 'Geeks']])"
      ],
      "metadata": {
        "id": "a6TSG1NY06BB"
      },
      "execution_count": null,
      "outputs": []
    },
    {
      "cell_type": "code",
      "source": [
        "#3 Untag\n",
        "from nltk.tag import untag\n",
        "untag([('Geeks', 'NN'), ('for', 'NN'), ('Geeks', 'NN')])"
      ],
      "metadata": {
        "id": "LgxBSVcj06D8"
      },
      "execution_count": null,
      "outputs": []
    }
  ]
}