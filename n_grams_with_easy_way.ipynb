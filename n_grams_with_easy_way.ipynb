{
  "nbformat": 4,
  "nbformat_minor": 0,
  "metadata": {
    "colab": {
      "name": "n-grams with easy way.ipynb",
      "private_outputs": true,
      "provenance": [],
      "authorship_tag": "ABX9TyPntgmxg+8KDFjV9wu8RepQ",
      "include_colab_link": true
    },
    "kernelspec": {
      "name": "python3",
      "display_name": "Python 3"
    },
    "language_info": {
      "name": "python"
    }
  },
  "cells": [
    {
      "cell_type": "markdown",
      "metadata": {
        "id": "view-in-github",
        "colab_type": "text"
      },
      "source": [
        "<a href=\"https://colab.research.google.com/github/Herzeg137/entering-to-NLP/blob/main/n_grams_with_easy_way.ipynb\" target=\"_parent\"><img src=\"https://colab.research.google.com/assets/colab-badge.svg\" alt=\"Open In Colab\"/></a>"
      ]
    },
    {
      "cell_type": "code",
      "source": [
        "from nltk import ngrams \n",
        "sentence = input(\"Enter the sentence\")\n",
        "n = int(input(\"Enter the value of n :\"))\n",
        "n_grams = ngrams(sentence.split(), n)\n",
        "for grams in n_grams:\n",
        "  print(grams)"
      ],
      "metadata": {
        "id": "7kICwUI3BT8i"
      },
      "execution_count": null,
      "outputs": []
    }
  ]
}